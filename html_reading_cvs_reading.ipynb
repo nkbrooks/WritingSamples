{
  "nbformat": 4,
  "nbformat_minor": 0,
  "metadata": {
    "colab": {
      "name": "html_reading/cvs_reading.ipynb",
      "provenance": [],
      "authorship_tag": "ABX9TyNwCF1qV/xVW4TVzrbkuTQv",
      "include_colab_link": true
    },
    "kernelspec": {
      "name": "python3",
      "display_name": "Python 3"
    }
  },
  "cells": [
    {
      "cell_type": "markdown",
      "metadata": {
        "id": "view-in-github",
        "colab_type": "text"
      },
      "source": [
        "<a href=\"https://colab.research.google.com/github/nkbrooks/WritingSamples/blob/main/html_reading_cvs_reading.ipynb\" target=\"_parent\"><img src=\"https://colab.research.google.com/assets/colab-badge.svg\" alt=\"Open In Colab\"/></a>"
      ]
    },
    {
      "cell_type": "code",
      "metadata": {
        "id": "G1nkADTIJ103"
      },
      "source": [
        "# an example of panda usage w/ data extraction: cvs and html read \r\n",
        "# can also be used for testing / reading bank statements/ menus etc....\r\n",
        "# with refiniery\r\n",
        "import pandas as pd "
      ],
      "execution_count": 15,
      "outputs": []
    },
    {
      "cell_type": "code",
      "metadata": {
        "colab": {
          "base_uri": "https://localhost:8080/",
          "height": 167
        },
        "id": "NWvvWSuqKCOp",
        "outputId": "9d187a41-0848-4320-acd0-5c11036a6f5c"
      },
      "source": [
        "# Note that you can create a pandas dataframe from a python dictionary\r\n",
        "bank_client_df = pd.DataFrame({'Bank cilent ID': [111, 222, 333, 444],\r\n",
        "      'Bank Client Name' : ['Chanel', 'Steve', 'Mitch', 'Ryan'], \r\n",
        "       'Savings':[300,4000,900,567], 'Expenses' : [100,10,22,400] })\r\n",
        "\r\n",
        "bank_client_df"
      ],
      "execution_count": 16,
      "outputs": [
        {
          "output_type": "execute_result",
          "data": {
            "text/html": [
              "<div>\n",
              "<style scoped>\n",
              "    .dataframe tbody tr th:only-of-type {\n",
              "        vertical-align: middle;\n",
              "    }\n",
              "\n",
              "    .dataframe tbody tr th {\n",
              "        vertical-align: top;\n",
              "    }\n",
              "\n",
              "    .dataframe thead th {\n",
              "        text-align: right;\n",
              "    }\n",
              "</style>\n",
              "<table border=\"1\" class=\"dataframe\">\n",
              "  <thead>\n",
              "    <tr style=\"text-align: right;\">\n",
              "      <th></th>\n",
              "      <th>Bank cilent ID</th>\n",
              "      <th>Bank Client Name</th>\n",
              "      <th>Savings</th>\n",
              "      <th>Expenses</th>\n",
              "    </tr>\n",
              "  </thead>\n",
              "  <tbody>\n",
              "    <tr>\n",
              "      <th>0</th>\n",
              "      <td>111</td>\n",
              "      <td>Chanel</td>\n",
              "      <td>300</td>\n",
              "      <td>100</td>\n",
              "    </tr>\n",
              "    <tr>\n",
              "      <th>1</th>\n",
              "      <td>222</td>\n",
              "      <td>Steve</td>\n",
              "      <td>4000</td>\n",
              "      <td>10</td>\n",
              "    </tr>\n",
              "    <tr>\n",
              "      <th>2</th>\n",
              "      <td>333</td>\n",
              "      <td>Mitch</td>\n",
              "      <td>900</td>\n",
              "      <td>22</td>\n",
              "    </tr>\n",
              "    <tr>\n",
              "      <th>3</th>\n",
              "      <td>444</td>\n",
              "      <td>Ryan</td>\n",
              "      <td>567</td>\n",
              "      <td>400</td>\n",
              "    </tr>\n",
              "  </tbody>\n",
              "</table>\n",
              "</div>"
            ],
            "text/plain": [
              "   Bank cilent ID Bank Client Name  Savings  Expenses\n",
              "0             111           Chanel      300       100\n",
              "1             222            Steve     4000        10\n",
              "2             333            Mitch      900        22\n",
              "3             444             Ryan      567       400"
            ]
          },
          "metadata": {
            "tags": []
          },
          "execution_count": 16
        }
      ]
    },
    {
      "cell_type": "code",
      "metadata": {
        "colab": {
          "base_uri": "https://localhost:8080/"
        },
        "id": "bN8kv7ijKCSE",
        "outputId": "29dd4685-fa11-41c6-ee2f-0edf72d88fcd"
      },
      "source": [
        "type(bank_client_df)"
      ],
      "execution_count": 17,
      "outputs": [
        {
          "output_type": "execute_result",
          "data": {
            "text/plain": [
              "pandas.core.frame.DataFrame"
            ]
          },
          "metadata": {
            "tags": []
          },
          "execution_count": 17
        }
      ]
    },
    {
      "cell_type": "code",
      "metadata": {
        "colab": {
          "base_uri": "https://localhost:8080/"
        },
        "id": "27X57IbpKK7u",
        "outputId": "b8c966fe-1573-4b4b-8623-94275d5016b2"
      },
      "source": [
        "#calculates savings from table \r\n",
        "savings_left = bank_client_df['Savings'] - bank_client_df['Expenses']\r\n",
        "print(savings_left)\r\n",
        "print('Total savings left total = {}'.format(savings_left.sum()))"
      ],
      "execution_count": 18,
      "outputs": [
        {
          "output_type": "stream",
          "text": [
            "0     200\n",
            "1    3990\n",
            "2     878\n",
            "3     167\n",
            "dtype: int64\n",
            "Total savings left total = 5235\n"
          ],
          "name": "stdout"
        }
      ]
    },
    {
      "cell_type": "code",
      "metadata": {
        "colab": {
          "base_uri": "https://localhost:8080/"
        },
        "id": "88bzqWaqKeJv",
        "outputId": "0fc3b4f0-4872-4376-d088-2890c18d9698"
      },
      "source": [
        "#cvs_read_test\r\n",
        "from google.colab import drive\r\n",
        "drive.mount('/content/drive')\r\n"
      ],
      "execution_count": 19,
      "outputs": [
        {
          "output_type": "stream",
          "text": [
            "Drive already mounted at /content/drive; to attempt to forcibly remount, call drive.mount(\"/content/drive\", force_remount=True).\n"
          ],
          "name": "stdout"
        }
      ]
    },
    {
      "cell_type": "code",
      "metadata": {
        "id": "hsc12z56M7du"
      },
      "source": [
        "\r\n",
        "\r\n",
        "bank_df = pd.read_csv('/content/drive/MyDrive/PhoelTechnologies_MLResearch /ML_Samples/Pandas/bank_client_information.csv')"
      ],
      "execution_count": 20,
      "outputs": []
    },
    {
      "cell_type": "code",
      "metadata": {
        "colab": {
          "base_uri": "https://localhost:8080/",
          "height": 407
        },
        "id": "QG1RO5Z-NQZr",
        "outputId": "c4ee1f84-f00d-45ac-98de-ecbb9245db32"
      },
      "source": [
        "bank_df\r\n"
      ],
      "execution_count": 21,
      "outputs": [
        {
          "output_type": "execute_result",
          "data": {
            "text/html": [
              "<div>\n",
              "<style scoped>\n",
              "    .dataframe tbody tr th:only-of-type {\n",
              "        vertical-align: middle;\n",
              "    }\n",
              "\n",
              "    .dataframe tbody tr th {\n",
              "        vertical-align: top;\n",
              "    }\n",
              "\n",
              "    .dataframe thead th {\n",
              "        text-align: right;\n",
              "    }\n",
              "</style>\n",
              "<table border=\"1\" class=\"dataframe\">\n",
              "  <thead>\n",
              "    <tr style=\"text-align: right;\">\n",
              "      <th></th>\n",
              "      <th>Savings</th>\n",
              "      <th>Expenses</th>\n",
              "    </tr>\n",
              "  </thead>\n",
              "  <tbody>\n",
              "    <tr>\n",
              "      <th>0</th>\n",
              "      <td>$2,629.13</td>\n",
              "      <td>364</td>\n",
              "    </tr>\n",
              "    <tr>\n",
              "      <th>1</th>\n",
              "      <td>$8,626.96</td>\n",
              "      <td>776</td>\n",
              "    </tr>\n",
              "    <tr>\n",
              "      <th>2</th>\n",
              "      <td>$9,072.02</td>\n",
              "      <td>606</td>\n",
              "    </tr>\n",
              "    <tr>\n",
              "      <th>3</th>\n",
              "      <td>34073</td>\n",
              "      <td>718</td>\n",
              "    </tr>\n",
              "    <tr>\n",
              "      <th>4</th>\n",
              "      <td>85792</td>\n",
              "      <td>129</td>\n",
              "    </tr>\n",
              "    <tr>\n",
              "      <th>...</th>\n",
              "      <td>...</td>\n",
              "      <td>...</td>\n",
              "    </tr>\n",
              "    <tr>\n",
              "      <th>194</th>\n",
              "      <td>81795</td>\n",
              "      <td>117</td>\n",
              "    </tr>\n",
              "    <tr>\n",
              "      <th>195</th>\n",
              "      <td>19166</td>\n",
              "      <td>218</td>\n",
              "    </tr>\n",
              "    <tr>\n",
              "      <th>196</th>\n",
              "      <td>99130</td>\n",
              "      <td>701</td>\n",
              "    </tr>\n",
              "    <tr>\n",
              "      <th>197</th>\n",
              "      <td>42801</td>\n",
              "      <td>542</td>\n",
              "    </tr>\n",
              "    <tr>\n",
              "      <th>198</th>\n",
              "      <td>2606</td>\n",
              "      <td>974</td>\n",
              "    </tr>\n",
              "  </tbody>\n",
              "</table>\n",
              "<p>199 rows × 2 columns</p>\n",
              "</div>"
            ],
            "text/plain": [
              "        Savings  Expenses\n",
              "0    $2,629.13        364\n",
              "1    $8,626.96        776\n",
              "2    $9,072.02        606\n",
              "3         34073       718\n",
              "4         85792       129\n",
              "..          ...       ...\n",
              "194       81795       117\n",
              "195       19166       218\n",
              "196       99130       701\n",
              "197       42801       542\n",
              "198        2606       974\n",
              "\n",
              "[199 rows x 2 columns]"
            ]
          },
          "metadata": {
            "tags": []
          },
          "execution_count": 21
        }
      ]
    },
    {
      "cell_type": "code",
      "metadata": {
        "id": "ulwORpmgOK6I"
      },
      "source": [
        "df_GDP = pd.read_html('https://en.wikipedia.org/wiki/Minnesota', match = 'Election results from statewide races') #uses matching to find specific table"
      ],
      "execution_count": 22,
      "outputs": []
    },
    {
      "cell_type": "code",
      "metadata": {
        "id": "pIFcAQjfOSwN"
      },
      "source": [
        "# Reads table from website\r\n",
        "house_prices_df = pd.read_html('https://www.livingin-canada.com/house-prices-canada.html')"
      ],
      "execution_count": 23,
      "outputs": []
    },
    {
      "cell_type": "code",
      "metadata": {
        "id": "dzMcZa9RT4nr"
      },
      "source": [
        "umd_tuition = pd.read_html('https://academiccatalog.umd.edu/undergraduate/fees-expenses-financial-aid/tuition-fees/')"
      ],
      "execution_count": 24,
      "outputs": []
    },
    {
      "cell_type": "code",
      "metadata": {
        "id": "puF7mYRHT9Qj",
        "colab": {
          "base_uri": "https://localhost:8080/",
          "height": 197
        },
        "outputId": "57a69ce2-16a5-4cf3-bd48-bc795894d3b4"
      },
      "source": [
        "umd_tuition[0]"
      ],
      "execution_count": 25,
      "outputs": [
        {
          "output_type": "execute_result",
          "data": {
            "text/html": [
              "<div>\n",
              "<style scoped>\n",
              "    .dataframe tbody tr th:only-of-type {\n",
              "        vertical-align: middle;\n",
              "    }\n",
              "\n",
              "    .dataframe tbody tr th {\n",
              "        vertical-align: top;\n",
              "    }\n",
              "\n",
              "    .dataframe thead th {\n",
              "        text-align: right;\n",
              "    }\n",
              "</style>\n",
              "<table border=\"1\" class=\"dataframe\">\n",
              "  <thead>\n",
              "    <tr style=\"text-align: right;\">\n",
              "      <th></th>\n",
              "      <th>Fee</th>\n",
              "      <th>Total Academic Year Cost</th>\n",
              "    </tr>\n",
              "  </thead>\n",
              "  <tbody>\n",
              "    <tr>\n",
              "      <th>0</th>\n",
              "      <td>Tuition</td>\n",
              "      <td>$8,824</td>\n",
              "    </tr>\n",
              "    <tr>\n",
              "      <th>1</th>\n",
              "      <td>Add Differential Tuition for full-time juniors...</td>\n",
              "      <td>$2,856</td>\n",
              "    </tr>\n",
              "    <tr>\n",
              "      <th>2</th>\n",
              "      <td>Mandatory Fees (includes Tech fee) Maximum cha...</td>\n",
              "      <td>$1,955</td>\n",
              "    </tr>\n",
              "    <tr>\n",
              "      <th>3</th>\n",
              "      <td>Board (Resident Dining Plan - Base Plan)</td>\n",
              "      <td>$4,760</td>\n",
              "    </tr>\n",
              "    <tr>\n",
              "      <th>4</th>\n",
              "      <td>Room (Standard 2-person w/AC, includes Telecom...</td>\n",
              "      <td>$8,064</td>\n",
              "    </tr>\n",
              "  </tbody>\n",
              "</table>\n",
              "</div>"
            ],
            "text/plain": [
              "                                                 Fee Total Academic Year Cost\n",
              "0                                            Tuition                   $8,824\n",
              "1  Add Differential Tuition for full-time juniors...                   $2,856\n",
              "2  Mandatory Fees (includes Tech fee) Maximum cha...                   $1,955\n",
              "3           Board (Resident Dining Plan - Base Plan)                   $4,760\n",
              "4  Room (Standard 2-person w/AC, includes Telecom...                   $8,064"
            ]
          },
          "metadata": {
            "tags": []
          },
          "execution_count": 25
        }
      ]
    },
    {
      "cell_type": "code",
      "metadata": {
        "id": "TdqeKUlUUiXK"
      },
      "source": [
        "\r\n"
      ],
      "execution_count": 25,
      "outputs": []
    },
    {
      "cell_type": "code",
      "metadata": {
        "colab": {
          "base_uri": "https://localhost:8080/",
          "height": 317
        },
        "id": "Zg2yGLWdOP1L",
        "outputId": "264964dc-bafd-49c4-f986-f6daea6b1b72"
      },
      "source": [
        "house_prices_df[0]"
      ],
      "execution_count": 26,
      "outputs": [
        {
          "output_type": "execute_result",
          "data": {
            "text/html": [
              "<div>\n",
              "<style scoped>\n",
              "    .dataframe tbody tr th:only-of-type {\n",
              "        vertical-align: middle;\n",
              "    }\n",
              "\n",
              "    .dataframe tbody tr th {\n",
              "        vertical-align: top;\n",
              "    }\n",
              "\n",
              "    .dataframe thead th {\n",
              "        text-align: right;\n",
              "    }\n",
              "</style>\n",
              "<table border=\"1\" class=\"dataframe\">\n",
              "  <thead>\n",
              "    <tr style=\"text-align: right;\">\n",
              "      <th></th>\n",
              "      <th>City</th>\n",
              "      <th>Average House Price</th>\n",
              "      <th>12 Month Change</th>\n",
              "    </tr>\n",
              "  </thead>\n",
              "  <tbody>\n",
              "    <tr>\n",
              "      <th>0</th>\n",
              "      <td>Vancouver, BC</td>\n",
              "      <td>$1,036,000</td>\n",
              "      <td>+ 2.63 %</td>\n",
              "    </tr>\n",
              "    <tr>\n",
              "      <th>1</th>\n",
              "      <td>Toronto, Ont</td>\n",
              "      <td>$870,000</td>\n",
              "      <td>+10.2 %</td>\n",
              "    </tr>\n",
              "    <tr>\n",
              "      <th>2</th>\n",
              "      <td>Ottawa, Ont</td>\n",
              "      <td>$479,000</td>\n",
              "      <td>+ 15.4 %</td>\n",
              "    </tr>\n",
              "    <tr>\n",
              "      <th>3</th>\n",
              "      <td>Calgary, Alb</td>\n",
              "      <td>$410,000</td>\n",
              "      <td>– 1.5 %</td>\n",
              "    </tr>\n",
              "    <tr>\n",
              "      <th>4</th>\n",
              "      <td>Montreal, Que</td>\n",
              "      <td>$435,000</td>\n",
              "      <td>+ 9.3 %</td>\n",
              "    </tr>\n",
              "    <tr>\n",
              "      <th>5</th>\n",
              "      <td>Halifax, NS</td>\n",
              "      <td>$331,000</td>\n",
              "      <td>+ 3.6 %</td>\n",
              "    </tr>\n",
              "    <tr>\n",
              "      <th>6</th>\n",
              "      <td>Regina, Sask</td>\n",
              "      <td>$254,000</td>\n",
              "      <td>– 3.9 %</td>\n",
              "    </tr>\n",
              "    <tr>\n",
              "      <th>7</th>\n",
              "      <td>Fredericton, NB</td>\n",
              "      <td>$198,000</td>\n",
              "      <td>– 4.3 %</td>\n",
              "    </tr>\n",
              "    <tr>\n",
              "      <th>8</th>\n",
              "      <td>(adsbygoogle = window.adsbygoogle || []).push(...</td>\n",
              "      <td>(adsbygoogle = window.adsbygoogle || []).push(...</td>\n",
              "      <td>(adsbygoogle = window.adsbygoogle || []).push(...</td>\n",
              "    </tr>\n",
              "  </tbody>\n",
              "</table>\n",
              "</div>"
            ],
            "text/plain": [
              "                                                City  ...                                    12 Month Change\n",
              "0                                      Vancouver, BC  ...                                           + 2.63 %\n",
              "1                                       Toronto, Ont  ...                                            +10.2 %\n",
              "2                                        Ottawa, Ont  ...                                           + 15.4 %\n",
              "3                                       Calgary, Alb  ...                                            – 1.5 %\n",
              "4                                      Montreal, Que  ...                                            + 9.3 %\n",
              "5                                        Halifax, NS  ...                                            + 3.6 %\n",
              "6                                       Regina, Sask  ...                                            – 3.9 %\n",
              "7                                    Fredericton, NB  ...                                            – 4.3 %\n",
              "8  (adsbygoogle = window.adsbygoogle || []).push(...  ...  (adsbygoogle = window.adsbygoogle || []).push(...\n",
              "\n",
              "[9 rows x 3 columns]"
            ]
          },
          "metadata": {
            "tags": []
          },
          "execution_count": 26
        }
      ]
    },
    {
      "cell_type": "code",
      "metadata": {
        "colab": {
          "base_uri": "https://localhost:8080/",
          "height": 827
        },
        "id": "KrApAzs1OOGC",
        "outputId": "44d1f68f-4dc0-4d6e-86c2-5a931db5a8ef"
      },
      "source": [
        "df_GDP[0]\r\n"
      ],
      "execution_count": 27,
      "outputs": [
        {
          "output_type": "execute_result",
          "data": {
            "text/html": [
              "<div>\n",
              "<style scoped>\n",
              "    .dataframe tbody tr th:only-of-type {\n",
              "        vertical-align: middle;\n",
              "    }\n",
              "\n",
              "    .dataframe tbody tr th {\n",
              "        vertical-align: top;\n",
              "    }\n",
              "\n",
              "    .dataframe thead th {\n",
              "        text-align: right;\n",
              "    }\n",
              "</style>\n",
              "<table border=\"1\" class=\"dataframe\">\n",
              "  <thead>\n",
              "    <tr style=\"text-align: right;\">\n",
              "      <th></th>\n",
              "      <th>Year</th>\n",
              "      <th>Office</th>\n",
              "      <th>GOP</th>\n",
              "      <th>DFL</th>\n",
              "      <th>Others</th>\n",
              "    </tr>\n",
              "  </thead>\n",
              "  <tbody>\n",
              "    <tr>\n",
              "      <th>0</th>\n",
              "      <td>2020</td>\n",
              "      <td>President</td>\n",
              "      <td>45.3%</td>\n",
              "      <td>52.4%</td>\n",
              "      <td>2.3%</td>\n",
              "    </tr>\n",
              "    <tr>\n",
              "      <th>1</th>\n",
              "      <td>2020</td>\n",
              "      <td>Senator</td>\n",
              "      <td>43.5%</td>\n",
              "      <td>48.8%</td>\n",
              "      <td>7.7%</td>\n",
              "    </tr>\n",
              "    <tr>\n",
              "      <th>2</th>\n",
              "      <td>2018</td>\n",
              "      <td>Governor</td>\n",
              "      <td>42.4%</td>\n",
              "      <td>53.9%</td>\n",
              "      <td>3.7%</td>\n",
              "    </tr>\n",
              "    <tr>\n",
              "      <th>3</th>\n",
              "      <td>2018</td>\n",
              "      <td>Senator</td>\n",
              "      <td>36.2%</td>\n",
              "      <td>60.3%</td>\n",
              "      <td>3.4%</td>\n",
              "    </tr>\n",
              "    <tr>\n",
              "      <th>4</th>\n",
              "      <td>2018</td>\n",
              "      <td>Senator</td>\n",
              "      <td>42.4%</td>\n",
              "      <td>53.0%</td>\n",
              "      <td>4.6%</td>\n",
              "    </tr>\n",
              "    <tr>\n",
              "      <th>5</th>\n",
              "      <td>2016</td>\n",
              "      <td>President</td>\n",
              "      <td>44.9%</td>\n",
              "      <td>46.4%</td>\n",
              "      <td>8.6%</td>\n",
              "    </tr>\n",
              "    <tr>\n",
              "      <th>6</th>\n",
              "      <td>2014</td>\n",
              "      <td>Governor</td>\n",
              "      <td>44.5%</td>\n",
              "      <td>50.1%</td>\n",
              "      <td>5.4%</td>\n",
              "    </tr>\n",
              "    <tr>\n",
              "      <th>7</th>\n",
              "      <td>2014</td>\n",
              "      <td>Senator</td>\n",
              "      <td>42.9%</td>\n",
              "      <td>53.2%</td>\n",
              "      <td>3.9%</td>\n",
              "    </tr>\n",
              "    <tr>\n",
              "      <th>8</th>\n",
              "      <td>2012</td>\n",
              "      <td>President</td>\n",
              "      <td>45.1%</td>\n",
              "      <td>52.8%</td>\n",
              "      <td>2.1%</td>\n",
              "    </tr>\n",
              "    <tr>\n",
              "      <th>9</th>\n",
              "      <td>2012</td>\n",
              "      <td>Senator</td>\n",
              "      <td>30.6%</td>\n",
              "      <td>65.3%</td>\n",
              "      <td>4.1%</td>\n",
              "    </tr>\n",
              "    <tr>\n",
              "      <th>10</th>\n",
              "      <td>2010</td>\n",
              "      <td>Governor</td>\n",
              "      <td>43.2%</td>\n",
              "      <td>43.7%</td>\n",
              "      <td>13.1%</td>\n",
              "    </tr>\n",
              "    <tr>\n",
              "      <th>11</th>\n",
              "      <td>2008</td>\n",
              "      <td>President</td>\n",
              "      <td>43.8%</td>\n",
              "      <td>54.1%</td>\n",
              "      <td>2.1%</td>\n",
              "    </tr>\n",
              "    <tr>\n",
              "      <th>12</th>\n",
              "      <td>2008</td>\n",
              "      <td>Senator</td>\n",
              "      <td>42.0%</td>\n",
              "      <td>42.0%</td>\n",
              "      <td>16.0%</td>\n",
              "    </tr>\n",
              "    <tr>\n",
              "      <th>13</th>\n",
              "      <td>2006</td>\n",
              "      <td>Governor</td>\n",
              "      <td>46.7%</td>\n",
              "      <td>45.7%</td>\n",
              "      <td>7.6%</td>\n",
              "    </tr>\n",
              "    <tr>\n",
              "      <th>14</th>\n",
              "      <td>2006</td>\n",
              "      <td>Senator</td>\n",
              "      <td>37.9%</td>\n",
              "      <td>58.1%</td>\n",
              "      <td>4.0%</td>\n",
              "    </tr>\n",
              "    <tr>\n",
              "      <th>15</th>\n",
              "      <td>2004</td>\n",
              "      <td>President</td>\n",
              "      <td>47.6%</td>\n",
              "      <td>51.1%</td>\n",
              "      <td>1.3%</td>\n",
              "    </tr>\n",
              "    <tr>\n",
              "      <th>16</th>\n",
              "      <td>2002</td>\n",
              "      <td>Governor</td>\n",
              "      <td>44.4%</td>\n",
              "      <td>33.5%</td>\n",
              "      <td>22.1%</td>\n",
              "    </tr>\n",
              "    <tr>\n",
              "      <th>17</th>\n",
              "      <td>2002</td>\n",
              "      <td>Senator</td>\n",
              "      <td>49.5%</td>\n",
              "      <td>47.3%</td>\n",
              "      <td>1.0%</td>\n",
              "    </tr>\n",
              "    <tr>\n",
              "      <th>18</th>\n",
              "      <td>2000</td>\n",
              "      <td>President</td>\n",
              "      <td>45.5%</td>\n",
              "      <td>47.9%</td>\n",
              "      <td>6.6%</td>\n",
              "    </tr>\n",
              "    <tr>\n",
              "      <th>19</th>\n",
              "      <td>2000</td>\n",
              "      <td>Senator</td>\n",
              "      <td>43.3%</td>\n",
              "      <td>48.8%</td>\n",
              "      <td>7.9%</td>\n",
              "    </tr>\n",
              "    <tr>\n",
              "      <th>20</th>\n",
              "      <td>1998</td>\n",
              "      <td>Governor</td>\n",
              "      <td>34.3%</td>\n",
              "      <td>28.1%</td>\n",
              "      <td>37.6%</td>\n",
              "    </tr>\n",
              "    <tr>\n",
              "      <th>21</th>\n",
              "      <td>1996</td>\n",
              "      <td>President</td>\n",
              "      <td>35.0%</td>\n",
              "      <td>51.1%</td>\n",
              "      <td>13.9%</td>\n",
              "    </tr>\n",
              "    <tr>\n",
              "      <th>22</th>\n",
              "      <td>1996</td>\n",
              "      <td>Senator</td>\n",
              "      <td>41.3%</td>\n",
              "      <td>50.3%</td>\n",
              "      <td>8.4%</td>\n",
              "    </tr>\n",
              "    <tr>\n",
              "      <th>23</th>\n",
              "      <td>1994</td>\n",
              "      <td>Governor</td>\n",
              "      <td>63.3%</td>\n",
              "      <td>34.1%</td>\n",
              "      <td>2.6%</td>\n",
              "    </tr>\n",
              "    <tr>\n",
              "      <th>24</th>\n",
              "      <td>1994</td>\n",
              "      <td>Senator</td>\n",
              "      <td>49.1%</td>\n",
              "      <td>44.1%</td>\n",
              "      <td>6.8%</td>\n",
              "    </tr>\n",
              "    <tr>\n",
              "      <th>25</th>\n",
              "      <td>1992</td>\n",
              "      <td>President</td>\n",
              "      <td>31.9%</td>\n",
              "      <td>43.5%</td>\n",
              "      <td>24.6%</td>\n",
              "    </tr>\n",
              "  </tbody>\n",
              "</table>\n",
              "</div>"
            ],
            "text/plain": [
              "    Year     Office    GOP    DFL Others\n",
              "0   2020  President  45.3%  52.4%   2.3%\n",
              "1   2020    Senator  43.5%  48.8%   7.7%\n",
              "2   2018   Governor  42.4%  53.9%   3.7%\n",
              "3   2018    Senator  36.2%  60.3%   3.4%\n",
              "4   2018    Senator  42.4%  53.0%   4.6%\n",
              "5   2016  President  44.9%  46.4%   8.6%\n",
              "6   2014   Governor  44.5%  50.1%   5.4%\n",
              "7   2014    Senator  42.9%  53.2%   3.9%\n",
              "8   2012  President  45.1%  52.8%   2.1%\n",
              "9   2012    Senator  30.6%  65.3%   4.1%\n",
              "10  2010   Governor  43.2%  43.7%  13.1%\n",
              "11  2008  President  43.8%  54.1%   2.1%\n",
              "12  2008    Senator  42.0%  42.0%  16.0%\n",
              "13  2006   Governor  46.7%  45.7%   7.6%\n",
              "14  2006    Senator  37.9%  58.1%   4.0%\n",
              "15  2004  President  47.6%  51.1%   1.3%\n",
              "16  2002   Governor  44.4%  33.5%  22.1%\n",
              "17  2002    Senator  49.5%  47.3%   1.0%\n",
              "18  2000  President  45.5%  47.9%   6.6%\n",
              "19  2000    Senator  43.3%  48.8%   7.9%\n",
              "20  1998   Governor  34.3%  28.1%  37.6%\n",
              "21  1996  President  35.0%  51.1%  13.9%\n",
              "22  1996    Senator  41.3%  50.3%   8.4%\n",
              "23  1994   Governor  63.3%  34.1%   2.6%\n",
              "24  1994    Senator  49.1%  44.1%   6.8%\n",
              "25  1992  President  31.9%  43.5%  24.6%"
            ]
          },
          "metadata": {
            "tags": []
          },
          "execution_count": 27
        }
      ]
    },
    {
      "cell_type": "code",
      "metadata": {
        "id": "LJsXGhBzoC-O"
      },
      "source": [
        "\r\n"
      ],
      "execution_count": 27,
      "outputs": []
    },
    {
      "cell_type": "code",
      "metadata": {
        "id": "Tc1bK7CkoD8a"
      },
      "source": [
        ""
      ],
      "execution_count": null,
      "outputs": []
    }
  ]
}